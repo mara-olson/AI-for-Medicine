{
 "cells": [
  {
   "cell_type": "markdown",
   "metadata": {},
   "source": [
    "# AI for Medicine\n",
    "\n",
    "**[AI for Medicine Specialization](https://www.coursera.org/specializations/ai-for-medicine?)**\n",
    "+ **[AI for Medical Diagnosis](https://www.coursera.org/learn/ai-for-medical-diagnosis)**\n",
    "  + Week 1\n",
    "    + [Chest X-Ray Medical Diagnosis with Deep Learning](https://github.com/ChanchalKumarMaji/AI-for-Medicine-Specialization-deeplearning.ai/blob/master/AI%20for%20Medical%20Diagnosis/Week%201/C1M1_Assignment.ipynb)\n",
    "  + Week 2\n",
    "    + [Evaluation of Diagnostic Models](https://github.com/ChanchalKumarMaji/AI-for-Medicine-Specialization-deeplearning.ai/blob/master/AI%20for%20Medical%20Diagnosis/Week%202/C1M2_Assignment.ipynb)\n",
    "  + Week 3\n",
    "    + [Brain Tumor Auto-Segmentation for Magnetic Resonance Imaging (MRI)](https://github.com/ChanchalKumarMaji/AI-for-Medicine-Specialization-deeplearning.ai/blob/master/AI%20for%20Medical%20Diagnosis/Week%203/C1M3_Assignment.ipynb)\n",
    "+ **[AI for Medical Prognosis](https://www.coursera.org/learn/ai-for-medical-prognosis)**\n",
    "  + Week 1\n",
    "    + [Diagnosing Diseases using Linear Risk Models](https://github.com/ChanchalKumarMaji/AI-for-Medicine-Specialization-deeplearning.ai/blob/master/AI%20for%20Medical%20Prognosis/Week%201/C2M1_Assignment.ipynb)\n",
    "  + Week 2\n",
    "    + [Risk Models Using Machine Learning](https://github.com/ChanchalKumarMaji/AI-for-Medicine-Specialization-deeplearning.ai/blob/master/AI%20for%20Medical%20Prognosis/Week%202/C2M2_Assignment.ipynb)\n",
    "  + Week 3\n",
    "    + [Non-Parametric Estimators for Survival Analysis](https://github.com/ChanchalKumarMaji/AI-for-Medicine-Specialization-deeplearning.ai/blob/master/AI%20for%20Medical%20Prognosis/Week%203/C2M3_Assignment.ipynb)\n",
    "  + Week 4\n",
    "    + [Cox Proportional Hazards and Random Survival Forests](https://github.com/ChanchalKumarMaji/AI-for-Medicine-Specialization-deeplearning.ai/blob/master/AI%20for%20Medical%20Prognosis/Week%204/C2M4_Assignment.ipynb)\n",
    "+ **[AI For Medical Treatment](https://www.coursera.org/learn/ai-for-medical-treatment)**\n",
    "  + Week 1\n",
    "    + []()\n",
    "  + Week 2\n",
    "    + []()\n",
    "  + Week 3\n",
    "    + []()\n",
    "\n",
    "\n",
    "**Instructors**: `Pranav Rajpurkar`, `Bora Uyumazturk`, `Amirhossein Kiani` and `Eddy Shyu`.\n",
    "\n",
    "These course materials belong entirely to `deeplearning.ai`. The solutions are only mine.\n",
    "\n",
    "\n",
    "<kbd><img src=\"https://github.com/ChanchalKumarMaji/AI-for-Medicine-Specialization-deeplearning.ai/blob/master/AI%20for%20Medical%20Diagnosis/Certificate/Certificate.jpg\" /></kbd>\n",
    "\n",
    "\n",
    "<kbd><img src=\"https://github.com/ChanchalKumarMaji/AI-for-Medicine-Specialization-deeplearning.ai/blob/master/AI%20for%20Medical%20Prognosis/Certificate/Certificate.jpg\" /></kbd>\n"
   ]
  },
  {
   "cell_type": "markdown",
   "metadata": {},
   "source": []
  }
 ],
 "metadata": {
  "kernelspec": {
   "display_name": "Python 3",
   "language": "python",
   "name": "python3"
  },
  "language_info": {
   "codemirror_mode": {
    "name": "ipython",
    "version": 3
   },
   "file_extension": ".py",
   "mimetype": "text/x-python",
   "name": "python",
   "nbconvert_exporter": "python",
   "pygments_lexer": "ipython3",
   "version": "3.7.6"
  }
 },
 "nbformat": 4,
 "nbformat_minor": 4
}
